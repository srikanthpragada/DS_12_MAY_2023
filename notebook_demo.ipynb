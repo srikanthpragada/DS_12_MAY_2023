{
 "cells": [
  {
   "cell_type": "code",
   "execution_count": 20,
   "id": "a1b76710-a140-47d0-9e91-2cc8218ae6c0",
   "metadata": {
    "tags": []
   },
   "outputs": [
    {
     "name": "stdout",
     "output_type": "stream",
     "text": [
      "Hello\n"
     ]
    }
   ],
   "source": [
    "print(\"Hello\")"
   ]
  },
  {
   "cell_type": "code",
   "execution_count": 21,
   "id": "729da9f7-6af6-40d6-9629-1e1921bb5f81",
   "metadata": {
    "collapsed": true,
    "jupyter": {
     "outputs_hidden": true,
     "source_hidden": true
    }
   },
   "outputs": [],
   "source": [
    "import datetime"
   ]
  },
  {
   "cell_type": "code",
   "execution_count": 22,
   "id": "e5b8feee-106c-4d9d-b6a4-13207db5e715",
   "metadata": {
    "collapsed": true,
    "jupyter": {
     "outputs_hidden": true,
     "source_hidden": true
    }
   },
   "outputs": [
    {
     "name": "stdout",
     "output_type": "stream",
     "text": [
      "2023-05-15 20:47:34.134631\n"
     ]
    }
   ],
   "source": [
    "print(datetime.datetime.now())"
   ]
  },
  {
   "cell_type": "code",
   "execution_count": 23,
   "id": "9a0e69c9-fd26-4f60-8adc-d7e4b2832287",
   "metadata": {
    "collapsed": true,
    "jupyter": {
     "outputs_hidden": true,
     "source_hidden": true
    }
   },
   "outputs": [
    {
     "name": "stdout",
     "output_type": "stream",
     "text": [
      "Hello\n"
     ]
    }
   ],
   "source": [
    "print('Hello')"
   ]
  },
  {
   "cell_type": "code",
   "execution_count": 10,
   "id": "1ab31023-4f9b-47b0-bbde-b47a7d539d7a",
   "metadata": {
    "collapsed": true,
    "jupyter": {
     "outputs_hidden": true,
     "source_hidden": true
    }
   },
   "outputs": [],
   "source": [
    "s = \"abc\""
   ]
  },
  {
   "cell_type": "markdown",
   "id": "1eba56a6-2c8f-414b-8802-b4a3f19d2414",
   "metadata": {},
   "source": [
    "<h1>Heading 1 </h1>"
   ]
  },
  {
   "cell_type": "markdown",
   "id": "1eba35a9-ef84-47c3-b865-200f7fe7b3cc",
   "metadata": {},
   "source": [
    "# Heading1"
   ]
  },
  {
   "cell_type": "markdown",
   "id": "b102f43f-1436-4186-9ffc-7cf39946325d",
   "metadata": {},
   "source": [
    "**bold**\n",
    "*italic*"
   ]
  },
  {
   "cell_type": "markdown",
   "id": "24ecbbd1-07ca-44dd-9cba-c85aeb5e3a9a",
   "metadata": {},
   "source": [
    "`This is fine`"
   ]
  },
  {
   "cell_type": "markdown",
   "id": "60c468ec-a6a8-40d1-bb3f-f5d7d90152e7",
   "metadata": {},
   "source": [
    "**this is fine**"
   ]
  },
  {
   "cell_type": "markdown",
   "id": "6d1d3753-79ec-447f-b309-d916b7d338b3",
   "metadata": {},
   "source": [
    "<ul><li>Classification</li><li>Regression</li></ul>"
   ]
  },
  {
   "cell_type": "markdown",
   "id": "0f84cf39-e143-4ab5-ac5f-de2675ff4cf7",
   "metadata": {},
   "source": [
    "- Classification\n",
    "- Regression"
   ]
  },
  {
   "cell_type": "markdown",
   "id": "d51c2437-b1c6-4f5a-825a-4fe5dc3f9909",
   "metadata": {},
   "source": [
    "1. Numpy\n",
    "1. Pandas\n",
    "1. Matplotlib"
   ]
  },
  {
   "cell_type": "code",
   "execution_count": 16,
   "id": "3122c896-09b8-4366-865f-d3655ef22f2d",
   "metadata": {
    "tags": []
   },
   "outputs": [
    {
     "data": {
      "text/plain": [
       "'D:\\\\classroom\\\\ds'"
      ]
     },
     "execution_count": 16,
     "metadata": {},
     "output_type": "execute_result"
    }
   ],
   "source": [
    "%pwd"
   ]
  },
  {
   "cell_type": "code",
   "execution_count": 17,
   "id": "722e7d14-7da0-4386-8072-136d6c62f190",
   "metadata": {
    "collapsed": true,
    "jupyter": {
     "outputs_hidden": true
    },
    "tags": []
   },
   "outputs": [
    {
     "data": {
      "text/plain": [
       "[' Volume in drive D is Software',\n",
       " ' Volume Serial Number is FCE9-76E2',\n",
       " '',\n",
       " ' Directory of D:\\\\classroom\\\\ds',\n",
       " '',\n",
       " '15-05-2023  20:43    <DIR>          .',\n",
       " '15-05-2023  20:43    <DIR>          ..',\n",
       " '15-05-2023  20:07    <DIR>          .ipynb_checkpoints',\n",
       " '15-05-2023  20:43             3,077 notebook_demo.ipynb',\n",
       " '               1 File(s)          3,077 bytes',\n",
       " '               3 Dir(s)  118,707,339,264 bytes free']"
      ]
     },
     "execution_count": 17,
     "metadata": {},
     "output_type": "execute_result"
    }
   ],
   "source": [
    "%system dir"
   ]
  },
  {
   "cell_type": "code",
   "execution_count": 19,
   "id": "0aa5fcce-12c4-4af2-a463-df60657c573b",
   "metadata": {
    "collapsed": true,
    "jupyter": {
     "outputs_hidden": true,
     "source_hidden": true
    }
   },
   "outputs": [
    {
     "name": "stdout",
     "output_type": "stream",
     "text": [
      "datetime\t s\t \n"
     ]
    }
   ],
   "source": [
    "%who"
   ]
  },
  {
   "cell_type": "code",
   "execution_count": 24,
   "id": "ddf3ac81-70a3-4514-b62a-7767ac7f3cbe",
   "metadata": {
    "collapsed": true,
    "jupyter": {
     "outputs_hidden": true,
     "source_hidden": true
    }
   },
   "outputs": [
    {
     "data": {
      "text/html": [
       "<h1>Heading1 </h1>\n",
       "<a href=\"google.com\">Google</a>\n"
      ],
      "text/plain": [
       "<IPython.core.display.HTML object>"
      ]
     },
     "metadata": {},
     "output_type": "display_data"
    }
   ],
   "source": [
    "%%html \n",
    "<h1>Heading1 </h1>\n",
    "<a href=\"google.com\">Google</a>"
   ]
  },
  {
   "cell_type": "code",
   "execution_count": 26,
   "id": "2165e939-be97-4a1c-bb83-6c6e9987af54",
   "metadata": {
    "collapsed": true,
    "jupyter": {
     "outputs_hidden": true,
     "source_hidden": true
    }
   },
   "outputs": [
    {
     "data": {
      "application/javascript": [
       "alert(\"Hello\")\n"
      ],
      "text/plain": [
       "<IPython.core.display.Javascript object>"
      ]
     },
     "metadata": {},
     "output_type": "display_data"
    }
   ],
   "source": [
    "%%js\n",
    "alert(\"Hello\")"
   ]
  },
  {
   "cell_type": "code",
   "execution_count": 27,
   "id": "3aedee47-dcdb-41ec-ae69-05176014f26d",
   "metadata": {
    "collapsed": true,
    "jupyter": {
     "outputs_hidden": true,
     "source_hidden": true
    }
   },
   "outputs": [
    {
     "name": "stdout",
     "output_type": "stream",
     "text": [
      "Writing libs.txt\n"
     ]
    }
   ],
   "source": [
    "%%writefile libs.txt\n",
    "Numpy\n",
    "Pandas\n",
    "Matplotlib\n",
    "Seaborn\n",
    "Sklearn"
   ]
  },
  {
   "cell_type": "code",
   "execution_count": 29,
   "id": "6e2e8ff0-2fd0-401c-abbe-5be51a33e56f",
   "metadata": {
    "collapsed": true,
    "jupyter": {
     "outputs_hidden": true,
     "source_hidden": true
    }
   },
   "outputs": [],
   "source": [
    "libs = !type libs.txt"
   ]
  },
  {
   "cell_type": "code",
   "execution_count": 28,
   "id": "dbae6cf0-4333-4a47-9c6d-87ef9d95fcbd",
   "metadata": {
    "collapsed": true,
    "jupyter": {
     "outputs_hidden": true,
     "source_hidden": true
    }
   },
   "outputs": [
    {
     "data": {
      "text/plain": [
       "['Numpy', 'Pandas', 'Matplotlib', 'Seaborn', 'Sklearn']"
      ]
     },
     "execution_count": 28,
     "metadata": {},
     "output_type": "execute_result"
    }
   ],
   "source": [
    "%system type libs.txt"
   ]
  },
  {
   "cell_type": "code",
   "execution_count": 30,
   "id": "7843d6ac-c84e-43ff-8131-a5b1ffcb26cc",
   "metadata": {
    "collapsed": true,
    "jupyter": {
     "outputs_hidden": true,
     "source_hidden": true
    },
    "tags": []
   },
   "outputs": [
    {
     "data": {
      "text/plain": [
       "['Numpy', 'Pandas', 'Matplotlib', 'Seaborn', 'Sklearn']"
      ]
     },
     "execution_count": 30,
     "metadata": {},
     "output_type": "execute_result"
    }
   ],
   "source": [
    "libs"
   ]
  },
  {
   "cell_type": "code",
   "execution_count": 1,
   "id": "ddf0c932-4c2d-4a66-9c08-94e3a82d41b3",
   "metadata": {
    "collapsed": true,
    "jupyter": {
     "outputs_hidden": true,
     "source_hidden": true
    },
    "tags": []
   },
   "outputs": [],
   "source": [
    "%%capture output\n",
    "for i in range(1,11):\n",
    "    print(i)"
   ]
  },
  {
   "cell_type": "code",
   "execution_count": 2,
   "id": "8d025eaa-65c3-40ac-bdc3-541078b54135",
   "metadata": {
    "collapsed": true,
    "jupyter": {
     "outputs_hidden": true,
     "source_hidden": true
    },
    "tags": []
   },
   "outputs": [
    {
     "data": {
      "text/plain": [
       "'1\\n2\\n3\\n4\\n5\\n6\\n7\\n8\\n9\\n10\\n'"
      ]
     },
     "execution_count": 2,
     "metadata": {},
     "output_type": "execute_result"
    }
   ],
   "source": [
    "output.stdout"
   ]
  },
  {
   "cell_type": "code",
   "execution_count": 3,
   "id": "302b525b-e4fb-4929-8234-275a6c0229ba",
   "metadata": {
    "collapsed": true,
    "jupyter": {
     "outputs_hidden": true,
     "source_hidden": true
    }
   },
   "outputs": [
    {
     "name": "stdout",
     "output_type": "stream",
     "text": [
      "308 µs ± 70.9 µs per loop (mean ± std. dev. of 7 runs, 10 loops each)\n"
     ]
    }
   ],
   "source": [
    "%%timeit -n 10\n",
    "lst=[]\n",
    "for n in range(1,1000):\n",
    "   lst.append(n*n)"
   ]
  },
  {
   "cell_type": "code",
   "execution_count": 4,
   "id": "4498de30-e1ce-4a87-b7f3-1b129036738c",
   "metadata": {
    "collapsed": true,
    "jupyter": {
     "outputs_hidden": true,
     "source_hidden": true
    }
   },
   "outputs": [
    {
     "name": "stdout",
     "output_type": "stream",
     "text": [
      "144 µs ± 35.2 µs per loop (mean ± std. dev. of 7 runs, 10 loops each)\n"
     ]
    }
   ],
   "source": [
    "%%timeit -n 10\n",
    "lst = [n*n for n in range(1,1000)]"
   ]
  },
  {
   "cell_type": "markdown",
   "id": "44ab2c1c-01bf-4dd4-9e3a-7d350ea6a393",
   "metadata": {},
   "source": [
    "<div class=\"alert alert-block alert-info\">\n",
    "This is blue box!\n",
    "</div>"
   ]
  },
  {
   "cell_type": "code",
   "execution_count": 5,
   "id": "5366d3cf-8838-4a64-9e50-ba87adca4c46",
   "metadata": {
    "collapsed": true,
    "jupyter": {
     "outputs_hidden": true,
     "source_hidden": true
    }
   },
   "outputs": [
    {
     "name": "stdout",
     "output_type": "stream",
     "text": [
      "D:\\classroom\\ds\n"
     ]
    }
   ],
   "source": [
    "!cd"
   ]
  },
  {
   "cell_type": "code",
   "execution_count": null,
   "id": "49f77234-e0cc-40ed-8249-58e4ba0fd16e",
   "metadata": {
    "collapsed": true,
    "jupyter": {
     "outputs_hidden": true,
     "source_hidden": true
    }
   },
   "outputs": [],
   "source": []
  }
 ],
 "metadata": {
  "kernelspec": {
   "display_name": "Python 3 (ipykernel)",
   "language": "python",
   "name": "python3"
  },
  "language_info": {
   "codemirror_mode": {
    "name": "ipython",
    "version": 3
   },
   "file_extension": ".py",
   "mimetype": "text/x-python",
   "name": "python",
   "nbconvert_exporter": "python",
   "pygments_lexer": "ipython3",
   "version": "3.10.9"
  }
 },
 "nbformat": 4,
 "nbformat_minor": 5
}
